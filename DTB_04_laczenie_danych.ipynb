{
  "nbformat": 4,
  "nbformat_minor": 0,
  "metadata": {
    "colab": {
      "provenance": [],
      "include_colab_link": true
    },
    "kernelspec": {
      "name": "python3",
      "display_name": "Python 3"
    }
  },
  "cells": [
    {
      "cell_type": "markdown",
      "metadata": {
        "id": "view-in-github",
        "colab_type": "text"
      },
      "source": [
        "<a href=\"https://colab.research.google.com/github/kriskalb/Data-Science-Bootcamp/blob/main/DTB_04_laczenie_danych.ipynb\" target=\"_parent\"><img src=\"https://colab.research.google.com/assets/colab-badge.svg\" alt=\"Open In Colab\"/></a>"
      ]
    },
    {
      "cell_type": "markdown",
      "metadata": {
        "id": "0rkjXDk9Id3y"
      },
      "source": [
        "* @author: krakowiakpawel9@gmail.com  \n",
        "* @site: e-smartdata.org"
      ]
    },
    {
      "cell_type": "markdown",
      "metadata": {
        "id": "4bZ3mB0Uazid"
      },
      "source": [
        "### Pandas\n",
        "Strona biblioteki: [https://pandas.pydata.org/](https://pandas.pydata.org/)  \n",
        "Dokumentacja: [https://pandas.pydata.org/pandas-docs/stable/](https://pandas.pydata.org/pandas-docs/stable/)\n",
        "\n",
        "Podstawowa biblioteka do analizy danych w języku Python.\n",
        "\n",
        "Aby zainstalować bibliotekę Pandas użyj polecenia poniżej:\n",
        "```\n",
        "pip install pandas\n",
        "```\n",
        "### Spis treści:\n",
        "1. [Import bibliotek](#a1)\n",
        "2. [Wczytanie danych](#a2)\n",
        "3. [Preprocessing](#a3)\n",
        "4. [Konkatenacja danych](#a4)\n",
        "5. [Metoda append()](#a5)\n",
        "\n",
        "\n",
        "\n",
        " \n"
      ]
    },
    {
      "cell_type": "markdown",
      "metadata": {
        "id": "3aCI_a7sLb5G"
      },
      "source": [
        "### <a name='a1'></a> Import bibliotek"
      ]
    },
    {
      "cell_type": "code",
      "metadata": {
        "id": "AEE5ZeP_mtQo"
      },
      "source": [
        "import pandas as pd\n",
        "pd.__version__"
      ],
      "execution_count": null,
      "outputs": []
    },
    {
      "cell_type": "markdown",
      "metadata": {
        "id": "BFt8HZBBLinq"
      },
      "source": [
        "### <a name='a2'></a> Wczytanie danych"
      ]
    },
    {
      "cell_type": "code",
      "metadata": {
        "id": "6B5xCJyLHkN2"
      },
      "source": [
        "def fetch_financial_data(company='AMZN'):\n",
        "    \"\"\"\n",
        "    This function fetch stock market quotations.\n",
        "    \"\"\"\n",
        "    import pandas_datareader.data as web\n",
        "    return web.DataReader(name=company, data_source='stooq')\n",
        "\n",
        "apple = fetch_financial_data('AAPL')\n",
        "amazon = fetch_financial_data('AMZN')\n",
        "google = fetch_financial_data('GOOGL')\n",
        "uber = fetch_financial_data('UBER')"
      ],
      "execution_count": null,
      "outputs": []
    },
    {
      "cell_type": "code",
      "metadata": {
        "id": "0-Rsms-veQL_"
      },
      "source": [
        "uber.info()"
      ],
      "execution_count": null,
      "outputs": []
    },
    {
      "cell_type": "code",
      "metadata": {
        "id": "zW1BENn_eYq1"
      },
      "source": [
        "apple.head()"
      ],
      "execution_count": null,
      "outputs": []
    },
    {
      "cell_type": "markdown",
      "metadata": {
        "id": "gcb6fkEQLodd"
      },
      "source": [
        "### <a name='a3'></a> Preprocessing"
      ]
    },
    {
      "cell_type": "code",
      "metadata": {
        "id": "wuS0pyiEefKP"
      },
      "source": [
        "apple.columns = ['apple_' + col.lower() for col in apple.columns]\n",
        "amazon.columns = ['amazon_' + col.lower() for col in amazon.columns]\n",
        "google.columns = ['google_' + col.lower() for col in google.columns]\n",
        "uber.columns = ['uber_' + col.lower() for col in uber.columns]"
      ],
      "execution_count": null,
      "outputs": []
    },
    {
      "cell_type": "code",
      "metadata": {
        "id": "RNn7lhGCez0I"
      },
      "source": [
        "apple.head()"
      ],
      "execution_count": null,
      "outputs": []
    },
    {
      "cell_type": "markdown",
      "metadata": {
        "id": "6vDDyS63Lxb4"
      },
      "source": [
        "### <a name='a4'></a> Konkatenacja danych"
      ]
    },
    {
      "cell_type": "code",
      "metadata": {
        "id": "3gDcpCyAe4VH"
      },
      "source": [
        "df = pd.concat(objs=[apple, amazon, google, uber], axis=1)\n",
        "df"
      ],
      "execution_count": null,
      "outputs": []
    },
    {
      "cell_type": "code",
      "metadata": {
        "id": "JWNIZGwWfNvL"
      },
      "source": [
        "df.describe()"
      ],
      "execution_count": null,
      "outputs": []
    },
    {
      "cell_type": "code",
      "metadata": {
        "id": "tjuooHlCfVTi"
      },
      "source": [
        "pd.set_option('display.float_format', lambda x: f'{x:.2f}')\n",
        "\n",
        "df.describe().T"
      ],
      "execution_count": null,
      "outputs": []
    },
    {
      "cell_type": "code",
      "metadata": {
        "id": "_Lh4wnWUgby6"
      },
      "source": [
        "df.corr()"
      ],
      "execution_count": null,
      "outputs": []
    },
    {
      "cell_type": "code",
      "metadata": {
        "id": "QHaytmMNghSQ"
      },
      "source": [
        "df.columns"
      ],
      "execution_count": null,
      "outputs": []
    },
    {
      "cell_type": "code",
      "metadata": {
        "id": "qSHmlTzlgndv"
      },
      "source": [
        "closes = [col for col in df.columns if col.endswith('close')]\n",
        "closes"
      ],
      "execution_count": null,
      "outputs": []
    },
    {
      "cell_type": "code",
      "metadata": {
        "id": "9pRs9NVRgyOC"
      },
      "source": [
        "df[closes].corr()"
      ],
      "execution_count": null,
      "outputs": []
    },
    {
      "cell_type": "code",
      "metadata": {
        "id": "XWVHxzI0hAPU"
      },
      "source": [
        "closes = [col for col in df.columns if col.endswith('close') or col.endswith('volume')]\n",
        "closes"
      ],
      "execution_count": null,
      "outputs": []
    },
    {
      "cell_type": "code",
      "metadata": {
        "id": "b03-v20MhGh5"
      },
      "source": [
        "df[closes].corr()"
      ],
      "execution_count": null,
      "outputs": []
    },
    {
      "cell_type": "markdown",
      "metadata": {
        "id": "zGSkvWiUMK08"
      },
      "source": [
        "### <a name='a5'></a> Metoda append()"
      ]
    },
    {
      "cell_type": "code",
      "metadata": {
        "id": "dNGZX6dqiuzr"
      },
      "source": [
        "uber.head()"
      ],
      "execution_count": null,
      "outputs": []
    },
    {
      "cell_type": "code",
      "metadata": {
        "id": "lut4YZwLive4"
      },
      "source": [
        "uber_6 = uber[uber.index.month == 6]\n",
        "uber_6"
      ],
      "execution_count": null,
      "outputs": []
    },
    {
      "cell_type": "code",
      "metadata": {
        "id": "lkIqEJT2i5No"
      },
      "source": [
        "uber_7 = uber[uber.index.month == 7]\n",
        "uber_7"
      ],
      "execution_count": null,
      "outputs": []
    },
    {
      "cell_type": "code",
      "metadata": {
        "id": "Byu7wSQYi8yz"
      },
      "source": [
        "uber_6_7 = uber_6.append(uber_7)\n",
        "uber_6_7"
      ],
      "execution_count": null,
      "outputs": []
    },
    {
      "cell_type": "code",
      "metadata": {
        "id": "4mWSXSbMjGnv"
      },
      "source": [],
      "execution_count": null,
      "outputs": []
    }
  ]
}