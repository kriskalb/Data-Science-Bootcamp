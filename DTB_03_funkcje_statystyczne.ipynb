{
  "nbformat": 4,
  "nbformat_minor": 0,
  "metadata": {
    "colab": {
      "provenance": [],
      "include_colab_link": true
    },
    "kernelspec": {
      "name": "python3",
      "display_name": "Python 3"
    }
  },
  "cells": [
    {
      "cell_type": "markdown",
      "metadata": {
        "id": "view-in-github",
        "colab_type": "text"
      },
      "source": [
        "<a href=\"https://colab.research.google.com/github/kriskalb/Data-Science-Bootcamp/blob/main/DTB_03_funkcje_statystyczne.ipynb\" target=\"_parent\"><img src=\"https://colab.research.google.com/assets/colab-badge.svg\" alt=\"Open In Colab\"/></a>"
      ]
    },
    {
      "cell_type": "markdown",
      "metadata": {
        "id": "eMtaN-_iIC7l"
      },
      "source": [
        "* @author: krakowiakpawel9@gmail.com  \n",
        "* @site: e-smartdata.org"
      ]
    },
    {
      "cell_type": "markdown",
      "metadata": {
        "id": "ZlL4HqNannLQ"
      },
      "source": [
        "### NumPy\n",
        ">Strona biblioteki: [https://numpy.org/](https://numpy.org/)  \n",
        ">Dokumentacja: [https://numpy.org/doc/](https://numpy.org/doc/)  \n",
        ">\n",
        ">Podstawowa biblioteka do obliczeń numerycznych w języku Python.\n",
        ">\n",
        ">Aby zainstalować bibliotekę NumPy, użyj polecenia poniżej:\n",
        "```\n",
        "pip install numpy\n",
        "```\n",
        "\n"
      ]
    },
    {
      "cell_type": "markdown",
      "metadata": {
        "id": "3DO3_fjpXtOW"
      },
      "source": [
        "### Funkcje statystyczne"
      ]
    },
    {
      "cell_type": "code",
      "metadata": {
        "id": "AEE5ZeP_mtQo",
        "outputId": "06d94214-dda3-4634-b998-8d06cb77d84d",
        "colab": {
          "base_uri": "https://localhost:8080/",
          "height": 35
        }
      },
      "source": [
        "import numpy as np\n",
        "np.__version__"
      ],
      "execution_count": 1,
      "outputs": [
        {
          "output_type": "execute_result",
          "data": {
            "text/plain": [
              "'1.22.4'"
            ],
            "application/vnd.google.colaboratory.intrinsic+json": {
              "type": "string"
            }
          },
          "metadata": {},
          "execution_count": 1
        }
      ]
    },
    {
      "cell_type": "code",
      "metadata": {
        "id": "N1R4uP6jVku7",
        "outputId": "1196b354-a259-47ab-c81e-b0e74a39ddd9",
        "colab": {
          "base_uri": "https://localhost:8080/"
        }
      },
      "source": [
        "price = np.array([[12.40, 12.80, 11.90, 12.60, 1000],\n",
        "                  [12.50, 13.00, 11.70, 12.20, 2000],\n",
        "                  [12.20, 13.40, 12.20, 13.20, 1500]])\n",
        "print(price)"
      ],
      "execution_count": 3,
      "outputs": [
        {
          "output_type": "stream",
          "name": "stdout",
          "text": [
            "[[  12.4   12.8   11.9   12.6 1000. ]\n",
            " [  12.5   13.    11.7   12.2 2000. ]\n",
            " [  12.2   13.4   12.2   13.2 1500. ]]\n"
          ]
        }
      ]
    },
    {
      "cell_type": "markdown",
      "metadata": {
        "id": "vCJjQJztWooi"
      },
      "source": [
        "sum()"
      ]
    },
    {
      "cell_type": "code",
      "metadata": {
        "id": "OUCjXdtTiA8s",
        "outputId": "6a9a34a8-fd41-4b44-e3f8-cf0fb6c42026",
        "colab": {
          "base_uri": "https://localhost:8080/"
        }
      },
      "source": [
        "price.sum()"
      ],
      "execution_count": 4,
      "outputs": [
        {
          "output_type": "execute_result",
          "data": {
            "text/plain": [
              "4650.1"
            ]
          },
          "metadata": {},
          "execution_count": 4
        }
      ]
    },
    {
      "cell_type": "code",
      "metadata": {
        "id": "RdSoTov1iHPd"
      },
      "source": [
        "price.sum(axis=0)"
      ],
      "execution_count": null,
      "outputs": []
    },
    {
      "cell_type": "code",
      "metadata": {
        "id": "cjsnnHX0iP6i"
      },
      "source": [
        "price.sum(axis=1)"
      ],
      "execution_count": null,
      "outputs": []
    },
    {
      "cell_type": "code",
      "metadata": {
        "id": "C5AZkjUjiVeE"
      },
      "source": [
        "np.sum(price)"
      ],
      "execution_count": null,
      "outputs": []
    },
    {
      "cell_type": "markdown",
      "metadata": {
        "id": "84O-LhuMWqIS"
      },
      "source": [
        "min()"
      ]
    },
    {
      "cell_type": "code",
      "metadata": {
        "id": "yo8lDGXpia0y"
      },
      "source": [
        "np.min(price, axis=0)"
      ],
      "execution_count": null,
      "outputs": []
    },
    {
      "cell_type": "markdown",
      "metadata": {
        "id": "48B6AF5FWrxh"
      },
      "source": [
        "max()"
      ]
    },
    {
      "cell_type": "code",
      "metadata": {
        "id": "4YBi85cYiiEG"
      },
      "source": [
        "np.max(price, axis=0)"
      ],
      "execution_count": null,
      "outputs": []
    },
    {
      "cell_type": "markdown",
      "metadata": {
        "id": "CyMEQi3_W0Nl"
      },
      "source": [
        "median()"
      ]
    },
    {
      "cell_type": "code",
      "metadata": {
        "id": "sSQaSlz3ikH4"
      },
      "source": [
        "np.median(price)"
      ],
      "execution_count": null,
      "outputs": []
    },
    {
      "cell_type": "markdown",
      "metadata": {
        "id": "KYmzsM9CXFjq"
      },
      "source": [
        "mean()"
      ]
    },
    {
      "cell_type": "code",
      "metadata": {
        "id": "db493A1dioDI"
      },
      "source": [
        "np.mean(price, axis=0)"
      ],
      "execution_count": null,
      "outputs": []
    },
    {
      "cell_type": "markdown",
      "metadata": {
        "id": "CVv4qN47XRHv"
      },
      "source": [
        "std()"
      ]
    },
    {
      "cell_type": "code",
      "metadata": {
        "id": "Q5WXZ-tNit1V"
      },
      "source": [
        "np.std(price, axis=0)"
      ],
      "execution_count": null,
      "outputs": []
    },
    {
      "cell_type": "markdown",
      "metadata": {
        "id": "WOM40cVnXXyw"
      },
      "source": [
        "var()"
      ]
    },
    {
      "cell_type": "code",
      "metadata": {
        "id": "2I2ktUNjix6o"
      },
      "source": [
        "np.var(price, axis=0)"
      ],
      "execution_count": null,
      "outputs": []
    },
    {
      "cell_type": "code",
      "metadata": {
        "id": "m8iVwN6oiy1a"
      },
      "source": [],
      "execution_count": null,
      "outputs": []
    }
  ]
}